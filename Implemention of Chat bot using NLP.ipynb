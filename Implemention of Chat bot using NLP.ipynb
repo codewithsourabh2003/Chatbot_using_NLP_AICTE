{
 "cells": [
  {
   "cell_type": "markdown",
   "id": "e25dcba1",
   "metadata": {},
   "source": [
    "# Implemention of Chatbot using NLP"
   ]
  },
  {
   "cell_type": "code",
   "execution_count": null,
   "id": "40d549c2",
   "metadata": {},
   "outputs": [],
   "source": [
    "#Importing necessary libraries\n",
    "import nltk\n",
    "import random\n",
    "import os\n",
    "import ssl\n",
    "import streamlit as st\n",
    "from sklearn.feature_extraction.text import TfidfVectorizer\n",
    "from sklearn.linear_model import LogisticRegression\n"
   ]
  },
  {
   "cell_type": "code",
   "execution_count": null,
   "id": "e6c16a8c",
   "metadata": {},
   "outputs": [],
   "source": [
    "ssl._create_default_https_context = ssl._create_unverified_context\n",
    "nltk.data.path.append(os.path.abspath('nltk_data'))\n",
    "nltk.download('punkt')"
   ]
  },
  {
   "cell_type": "code",
   "execution_count": null,
   "id": "6e71c3fa",
   "metadata": {},
   "outputs": [],
   "source": [
    "intents =[\n",
    "\n",
    "    {\n",
    "        'tags':'greeting',\n",
    "        'patterns': ['Hi','Hello','Nice to see you','How are you'],\n",
    "        'responses':['Hi there','Hello Good Human','Hey,me too','Iam fine,thank you']\n",
    "    },\n",
    "    {\n",
    "        'Tags': 'Help_request'\n",
    "        'pattern': ['I need Help','Can you assist me?']\n",
    "        'response': ['Sure,What need you help with']\n",
    "    },\n",
    "    {\n",
    "        'tags': ['product information']\n",
    "        'pattern': ['Tell me about this [Product]','What is the Feature of this [Product]']\n",
    "        'response':['Sure, Here are the [Product] details']\n",
    "\n",
    "    },\n",
    "    {\n",
    "        'tags': ['Complaint']\n",
    "        'pattern':['I want to complaint','I have an issue with the  my product']\n",
    "        'Response':[\"I'm sorry to hear that. Please provide more details so I can assist.\"]\n",
    "\n",
    "    },\n",
    "    {\n",
    "        'tags':['FAQ']\n",
    "        'pattern':['What are your operating hours?'], ['Where is your store located?']\n",
    "        'Response':['Our operating hours are..'],['Our store is located at...']\n",
    "\n",
    "    },\n",
    "    {\n",
    "        'tags':[\"Goodbye\"]\n",
    "        'pattern':[\"Goodbye\"],['See you later']\n",
    "        'Response':['Good by have a good day']\n",
    "\n",
    "    },\n",
    "    {\n",
    "        'tags': ['Appointment_Scheduling']\n",
    "        'pattern':['I want to schedule an appointment'],['Book a meeting']\n",
    "        'Response':['Sure, please provide the date and time']\n",
    "    }\n",
    "]"
   ]
  },
  {
   "cell_type": "code",
   "execution_count": null,
   "id": "bf438b83",
   "metadata": {},
   "outputs": [],
   "source": [
    "#Creaing the vectorizer and Classifier\n",
    "vectorizer = TfidfVectorizer()\n",
    "clf = LogisticRegression(random_state=0, max_iter=10000)\n",
    "#Preprocess the data\n",
    "tags = []\n",
    "pattern = []\n",
    "for intent in intents:\n",
    "    for pattern in intents['patterns']:\n",
    "        tags.append(intent['tags'])\n",
    "        pattern.append(pattern)"
   ]
  },
  {
   "cell_type": "code",
   "execution_count": null,
   "id": "703aae46",
   "metadata": {},
   "outputs": [],
   "source": [
    "#Traning the model\n",
    "x = vectorizer.fit_transform(patterns)\n",
    "y = tags\n",
    "clf.fit(x,y)"
   ]
  },
  {
   "cell_type": "code",
   "execution_count": null,
   "id": "9f97f9d3",
   "metadata": {},
   "outputs": [],
   "source": [
    "#python function to chat with chatbot\n",
    "def chatbot(input_text);\n",
    "    input-text = vectorizer.transform([input_text])\n",
    "    tags = clf.prdict(intput_text)[0]\n",
    "    for intent in intents:\n",
    "        if intent['tag'] == tag:\n",
    "            response = random.choice(intent['response'])\n",
    "            return response"
   ]
  },
  {
   "cell_type": "code",
   "execution_count": null,
   "id": "7ee4d2d7",
   "metadata": {},
   "outputs": [],
   "source": [
    "#cheaking our chatbot\n",
    "user_input = \"Nice to see you\"\n",
    "response = chatbot(user_input)\n",
    "print(response)"
   ]
  },
  {
   "cell_type": "code",
   "execution_count": null,
   "id": "e89f97d7",
   "metadata": {},
   "outputs": [],
   "source": [
    "user_input = \"Help_request\"\n",
    "response = chatbot(user_input)\n",
    "print(response)"
   ]
  },
  {
   "cell_type": "code",
   "execution_count": null,
   "id": "5c9de475",
   "metadata": {},
   "outputs": [],
   "source": [
    "user_input = \"Help_request\"\n",
    "response = chatbot(user_input)\n",
    "print(response)"
   ]
  },
  {
   "cell_type": "code",
   "execution_count": null,
   "id": "570f1979",
   "metadata": {},
   "outputs": [],
   "source": [
    "user_input = \"product information\"\n",
    "response = chatbot(user_input)\n",
    "print(response)"
   ]
  }
 ],
 "metadata": {
  "kernelspec": {
   "display_name": "Python 3",
   "language": "python",
   "name": "python3"
  },
  "language_info": {
   "codemirror_mode": {
    "name": "ipython",
    "version": 3
   },
   "file_extension": ".py",
   "mimetype": "text/x-python",
   "name": "python",
   "nbconvert_exporter": "python",
   "pygments_lexer": "ipython3",
   "version": "3.13.2"
  }
 },
 "nbformat": 4,
 "nbformat_minor": 5
}
